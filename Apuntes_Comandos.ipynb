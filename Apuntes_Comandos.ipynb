{
  "nbformat": 4,
  "nbformat_minor": 0,
  "metadata": {
    "colab": {
      "provenance": [],
      "authorship_tag": "ABX9TyNw7rvPCMs0qjlYngt9Jm3c",
      "include_colab_link": true
    },
    "kernelspec": {
      "name": "python3",
      "display_name": "Python 3"
    },
    "language_info": {
      "name": "python"
    }
  },
  "cells": [
    {
      "cell_type": "markdown",
      "metadata": {
        "id": "view-in-github",
        "colab_type": "text"
      },
      "source": [
        "<a href=\"https://colab.research.google.com/github/BautistaDavid/Monitorias_2023/blob/main/Apuntes_Comandos.ipynb\" target=\"_parent\"><img src=\"https://colab.research.google.com/assets/colab-badge.svg\" alt=\"Open In Colab\"/></a>"
      ]
    },
    {
      "cell_type": "markdown",
      "source": [
        "## **Algunos Comandos de GIT**"
      ],
      "metadata": {
        "id": "WVW3rnjawWWw"
      }
    },
    {
      "cell_type": "markdown",
      "source": [
        "Ejercicio: Completar para que sirve cada comando"
      ],
      "metadata": {
        "id": "HOm1o8sVwda_"
      }
    },
    {
      "cell_type": "markdown",
      "source": [
        "\n",
        "\n",
        "```\n",
        "pwd \n",
        "\n",
        "ls \n",
        "\n",
        "cd\n",
        "\n",
        "cd ..\n",
        "\n",
        "mkdir\n",
        "\n",
        "rmdir\n",
        "\n",
        "touch\n",
        "\n",
        "rm\n",
        "\n",
        "git clone\n",
        "\n",
        "git add .\n",
        "\n",
        "\n",
        "git commit -m\"\"\n",
        "\n",
        "git push origin <rama>\n",
        "\n",
        "git pull origin <rama>\n",
        "\n",
        "\n",
        "```\n",
        "\n",
        "\n",
        "\n"
      ],
      "metadata": {
        "id": "KomJXrq8jco1"
      }
    },
    {
      "cell_type": "markdown",
      "source": [
        "## Programación orientada a objetos"
      ],
      "metadata": {
        "id": "mN7Tiv2u0-Lf"
      }
    },
    {
      "cell_type": "code",
      "source": [
        "class Manipulador_tabla:\n",
        "\n",
        "  def __init__(self,x):\n",
        "    self.x = x\n",
        "    self.dimensiones = [len(self.x) - 1,len(self.x[0])]\n",
        "    self.columnas = self.x[0]\n",
        "    self.tipo_datos = [type(i) for i in self.x[1]]\n",
        "    return None\n",
        "\n",
        "  def verificacion_filas(self):\n",
        "    return [len(i) for i in self.x[1:]]\n",
        "\n",
        "  def test_de_re_uso(self):\n",
        "    return self.verificacion_filas()\n",
        "\n",
        "\n",
        "\n",
        "\n",
        "\n",
        "    \n",
        "\n",
        "\n",
        "\n",
        "\n",
        "\n",
        "# Tamaño de la tabla (número de filas, número de columnas).\n",
        "# Nombres de las columnas\n",
        "# Tipos de datos de cada columna\n",
        "\n",
        "\n",
        "\n"
      ],
      "metadata": {
        "id": "QbYHiMc-xsuT"
      },
      "execution_count": 27,
      "outputs": []
    },
    {
      "cell_type": "code",
      "source": [
        "a = [['Edad','Ingreso'],\n",
        "    [58,550,3,5],\n",
        "     [72,45],\n",
        "     [31,778]]\n",
        "\n",
        "mi_objeto = Manipulador_tabla(a)\n",
        "## Llamar atributos \n",
        "mi_objeto.dimensiones\n",
        "mi_objeto.tipo_datos\n",
        "\n",
        "## Llamar Funciones (Metodos)\n",
        "\n",
        "#\n",
        "\n",
        "mi_objeto.test_de_re_uso()\n",
        "\n",
        "\n",
        "\n"
      ],
      "metadata": {
        "colab": {
          "base_uri": "https://localhost:8080/"
        },
        "id": "BPxgwTBH1_qa",
        "outputId": "f66d41fb-0156-4a7e-c436-4f68aaf43067"
      },
      "execution_count": 29,
      "outputs": [
        {
          "output_type": "execute_result",
          "data": {
            "text/plain": [
              "[4, 2, 2]"
            ]
          },
          "metadata": {},
          "execution_count": 29
        }
      ]
    },
    {
      "cell_type": "code",
      "source": [],
      "metadata": {
        "colab": {
          "base_uri": "https://localhost:8080/"
        },
        "id": "fsAJyYLP3TGk",
        "outputId": "3d02de41-0a4a-47a4-c00a-2775694435d2"
      },
      "execution_count": 14,
      "outputs": [
        {
          "output_type": "execute_result",
          "data": {
            "text/plain": [
              "str"
            ]
          },
          "metadata": {},
          "execution_count": 14
        }
      ]
    },
    {
      "cell_type": "code",
      "source": [
        "class Estadisticos:\n",
        "\n",
        "  def __init__(self,x):\n",
        "    self.x = x\n",
        "    self.n = len(x)\n",
        "  \n",
        "  def media(self):\n",
        "    return sum(self.x) / self.n\n",
        "\n",
        "  def media_2(self):\n",
        "    return self.media()**2\n"
      ],
      "metadata": {
        "id": "g0OvDYg34bA0"
      },
      "execution_count": 30,
      "outputs": []
    },
    {
      "cell_type": "code",
      "source": [
        "a = Estadisticos([4,7,8,9,2])\n",
        "a.media()"
      ],
      "metadata": {
        "colab": {
          "base_uri": "https://localhost:8080/"
        },
        "id": "PUDV9Lx37BOD",
        "outputId": "4fabc86d-b15d-4ee3-aeba-66545964e72b"
      },
      "execution_count": 32,
      "outputs": [
        {
          "output_type": "execute_result",
          "data": {
            "text/plain": [
              "6.0"
            ]
          },
          "metadata": {},
          "execution_count": 32
        }
      ]
    },
    {
      "cell_type": "code",
      "source": [
        "a.media_2()"
      ],
      "metadata": {
        "colab": {
          "base_uri": "https://localhost:8080/"
        },
        "id": "i-Faup8d7FKj",
        "outputId": "1ec25cd7-0426-41b0-b4d2-8b934c4aa21c"
      },
      "execution_count": 33,
      "outputs": [
        {
          "output_type": "execute_result",
          "data": {
            "text/plain": [
              "36.0"
            ]
          },
          "metadata": {},
          "execution_count": 33
        }
      ]
    },
    {
      "cell_type": "code",
      "source": [
        "a.n"
      ],
      "metadata": {
        "colab": {
          "base_uri": "https://localhost:8080/"
        },
        "id": "v1okzPRO7JGY",
        "outputId": "6bc86187-de28-4637-80a1-745535d92aeb"
      },
      "execution_count": 34,
      "outputs": [
        {
          "output_type": "execute_result",
          "data": {
            "text/plain": [
              "5"
            ]
          },
          "metadata": {},
          "execution_count": 34
        }
      ]
    },
    {
      "cell_type": "code",
      "source": [],
      "metadata": {
        "id": "hZDQ71Ds7L24"
      },
      "execution_count": null,
      "outputs": []
    }
  ]
}