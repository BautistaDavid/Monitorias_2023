{
  "nbformat": 4,
  "nbformat_minor": 0,
  "metadata": {
    "colab": {
      "provenance": [],
      "authorship_tag": "ABX9TyNYhtnrktAJIh8xJz87og7B",
      "include_colab_link": true
    },
    "kernelspec": {
      "name": "python3",
      "display_name": "Python 3"
    },
    "language_info": {
      "name": "python"
    }
  },
  "cells": [
    {
      "cell_type": "markdown",
      "metadata": {
        "id": "view-in-github",
        "colab_type": "text"
      },
      "source": [
        "<a href=\"https://colab.research.google.com/github/BautistaDavid/Monitorias_2023/blob/main/Apuntes_Comandos.ipynb\" target=\"_parent\"><img src=\"https://colab.research.google.com/assets/colab-badge.svg\" alt=\"Open In Colab\"/></a>"
      ]
    },
    {
      "cell_type": "markdown",
      "source": [
        "## **Algunos Comandos de GIT**"
      ],
      "metadata": {
        "id": "WVW3rnjawWWw"
      }
    },
    {
      "cell_type": "markdown",
      "source": [
        "Ejercicio: Completar para que sirve cada comando"
      ],
      "metadata": {
        "id": "HOm1o8sVwda_"
      }
    },
    {
      "cell_type": "markdown",
      "source": [
        "\n",
        "\n",
        "```\n",
        "pwd \n",
        "\n",
        "ls \n",
        "\n",
        "cd\n",
        "\n",
        "cd ..\n",
        "\n",
        "mkdir\n",
        "\n",
        "rmdir\n",
        "\n",
        "touch\n",
        "\n",
        "rm\n",
        "\n",
        "git clone\n",
        "\n",
        "git add .\n",
        "\n",
        "\n",
        "git commit -m\"\"\n",
        "\n",
        "git push origin <rama>\n",
        "\n",
        "git pull origin <rama>\n",
        "\n",
        "\n",
        "```\n",
        "\n",
        "\n",
        "\n"
      ],
      "metadata": {
        "id": "KomJXrq8jco1"
      }
    },
    {
      "cell_type": "code",
      "source": [],
      "metadata": {
        "id": "QbYHiMc-xsuT"
      },
      "execution_count": null,
      "outputs": []
    }
  ]
}